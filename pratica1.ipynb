{
  "cells": [
    {
      "cell_type": "markdown",
      "metadata": {
        "id": "view-in-github",
        "colab_type": "text"
      },
      "source": [
        "<a href=\"https://colab.research.google.com/github/lomurta/ProcImagens/blob/main/pratica1.ipynb\" target=\"_parent\"><img src=\"https://colab.research.google.com/assets/colab-badge.svg\" alt=\"Open In Colab\"/></a>"
      ]
    },
    {
      "cell_type": "markdown",
      "metadata": {
        "id": "vQV7E4KN-PUr"
      },
      "source": [
        "## <center>Introdução ao Python</center>\n",
        "---\n",
        "#### <center>Principios</center>\n"
      ]
    },
    {
      "cell_type": "markdown",
      "metadata": {
        "id": "XgPR-w72-PUy"
      },
      "source": [
        "Nesta prática você trabalhará com a linguagem [*Python*](https://www.python.org/), uma linguagem de **propósito geral** que oferece **alto nível** de abstração. Isso faz de *Python* uma excelente primeira linguagem a ser aprendida, pois *(i)* você poderá aplicar seus novos conhecimentos em programação a vários projetos e contextos diferentes; e *(ii)* você trabalhará projetando suas ideias, sem ter que se preocupar com os mínimos detalhes sobre como seu código funciona.\n",
        "\n",
        "Um componente fundamental da linguagem *Python* que nos permite **executar** o código que escrevemos é o **interpretador**.\n",
        "No fundo, o interpretador é um programa que executa programas! Ele lê as instruções que escrevemos na forma de código e as executa logo em seguida, sem antes precisar traduzi-lo para código de máquina. Quer ver um exemplo?\n",
        "\n",
        "Vamos começar construindo o [programa \"Hello World\"](https://www.wikiwand.com/en/%22Hello,_World!%22_program), uma tradição bem conhecida entre os programadores quando estão aprendendo uma linguagem nova.\n",
        "Este pequeno programa é encarado como um primeiro teste, e simplesmente imprime uma mensagem com o texto *\"Hello World\"* no console.\n",
        "Escrever o programa \"Hello World em *Python* é realmente muito simples. Veja na célula abaixo."
      ]
    },
    {
      "cell_type": "code",
      "execution_count": null,
      "metadata": {
        "id": "a1Bvs50w-PUz"
      },
      "outputs": [],
      "source": [
        "print(\"Hello World\")"
      ]
    },
    {
      "cell_type": "markdown",
      "metadata": {
        "id": "EqzYCunQ-PU1"
      },
      "source": [
        "O que fizemos foi simplesmente executar uma **função**, que já faz todo o \"trabalho sujo\" para nós. Esta função, que se chama `print`, recebe um texto como **argumento**, entre parênteses, e o imprime no console. No caso, o texto que passamos é `\"Hello World\"`. As aspas envolvendo o texto servem para dizer ao interpretador que estamos construindo uma *string* (o tipo de dado que usamos para representar texto)."
      ]
    },
    {
      "cell_type": "markdown",
      "metadata": {
        "id": "U_L7gTlG-PU2"
      },
      "source": [
        "Por enquanto vamos focar no uso mais básico do interpretador *Python*, operando valores numéricos apenas.\n",
        "Nesta aula vamos aprender a usar o interpretador como uma calculadora um pouco mais elaborada. \n",
        "No fim você codificará um modelo de crescimento exponencial para estimar o tamanho populacional em uma cultura bacteriana."
      ]
    },
    {
      "cell_type": "markdown",
      "metadata": {
        "id": "_jO4OUoc-PU3"
      },
      "source": [
        "### Objetivos. \n",
        "Após esta aula você deverá ser capaz de: \n",
        "\n",
        "* Reconhecer os principais **operadores numéricos**;\n",
        "* Construir e computar **expressões** matemáticas;\n",
        "* Armazenar e consultar resultados de computações em **variáveis**."
      ]
    },
    {
      "cell_type": "markdown",
      "metadata": {
        "id": "RX__o4gs-PU4"
      },
      "source": [
        "## 1. Tipos"
      ]
    },
    {
      "cell_type": "markdown",
      "metadata": {
        "id": "shxIM5x7-PU5"
      },
      "source": [
        "**Tipos** são abstrações fundamentais nas linguagens de programação que nos permitem representar elementos de informação. Cada linguagem possui um conjunto de *tipos primitivos* (ou fundamentais), a partir dos quais o programador pode construir *tipos compostos*.\n",
        "Por enquanto vamos conhecer alguns dos tipos primitivos, que já vêm definidos na linguagem *Python*:\n",
        "\n",
        "* Tipos **numéricos**:\n",
        " * **Integer** (inteiros): Permite representar números inteiros, por exemplo `4`.\n",
        " * **Float** (ponto flutuante): Permite representar números com parte fracionária, por exemplo `42.5`.\n",
        "\n",
        "* **String**: Permite representar informação na forma de texto, por exemplo `\"Palavra\"` ou `\"C\"`. Usamos aspas (duplas ou simples) para representar informação textual. Em muitas outras linguagens de programação existe também o tipo caractere (ou char). Porém, em *Python* um caractere é uma string de comprimento 1.\n",
        "\n",
        "* **Boolean**: Representa informação em lógica binária, `True` ou `False`. "
      ]
    },
    {
      "cell_type": "code",
      "execution_count": null,
      "metadata": {
        "id": "6lsydtB--PU5"
      },
      "outputs": [],
      "source": [
        ""
      ]
    },
    {
      "cell_type": "markdown",
      "metadata": {
        "id": "OqFu-R9M-PU6"
      },
      "source": [
        "Veja os [tipos nativos](https://docs.python.org/3/library/stdtypes.html#built-in-types) da linguagem *Python*."
      ]
    },
    {
      "cell_type": "markdown",
      "metadata": {
        "id": "UMotRYrf-PU6"
      },
      "source": [
        "## 2. Operadores e expressões"
      ]
    },
    {
      "cell_type": "markdown",
      "metadata": {
        "id": "Q1M6rMDS-PU7"
      },
      "source": [
        "**Operadores** são os símbolos que especificam as computações mais fundamentais, como por exemplo soma, subtração, multiplicação e divisão. Sempre que aplicamos um operador sobre dois operandos, esperamos obter algum resultado imediatamente. Podemos combinar vários operadores e operandos, construindo assim **expressões**. Veja na tabela abaixo os principais operadores numéricos da linguagem *Python*."
      ]
    },
    {
      "cell_type": "markdown",
      "metadata": {
        "id": "n1Bk0jJT-PU7"
      },
      "source": [
        "| Operação| Operador| Exemplo | Resultado\n",
        "|:-|---|-:|--|\n",
        "| Soma      | `+` | `9 + 7` | `16` |\n",
        "| Subtração | `-` | `9 - 7` | `2` |\n",
        "| Multiplicação | `*` | `9 * 7` | `63` |\n",
        "| Divisão | `/` | `5 / 2`| `2.5` | \n",
        "| Exponenciação | `**` | `9**2` | `81` |\n",
        "| Módulo | `%` | `9 % 2` | `1` |\n",
        "\n"
      ]
    },
    {
      "cell_type": "markdown",
      "metadata": {
        "id": "RfjejwaL-PU8"
      },
      "source": [
        "Experimente operar alguns números na célula abaixo"
      ]
    },
    {
      "cell_type": "code",
      "execution_count": null,
      "metadata": {
        "id": "iylL1pqC-PU8"
      },
      "outputs": [],
      "source": [
        ""
      ]
    },
    {
      "cell_type": "markdown",
      "metadata": {
        "id": "Pj0-VuaD-PU8"
      },
      "source": [
        "Você também pode criar expressões combinando valores e operadores!"
      ]
    },
    {
      "cell_type": "code",
      "execution_count": null,
      "metadata": {
        "id": "iwnZSByY-PU9"
      },
      "outputs": [],
      "source": [
        ""
      ]
    },
    {
      "cell_type": "markdown",
      "metadata": {
        "id": "m4_Mzriy-PU9"
      },
      "source": [
        "<b style=\"color:red\">Cuidado!</b> A ordem de avaliação dos elementos em uma expressão segue a mesma convenção de precedência utilizada na matemática. Elementos entre parênteses têm prioridade durante a avaliação."
      ]
    },
    {
      "cell_type": "markdown",
      "metadata": {
        "id": "3SD4EoEv-PU9"
      },
      "source": [
        "Na célula abaixo, represente a seguinte expressão em código e obtenha seu resultado: "
      ]
    },
    {
      "cell_type": "markdown",
      "metadata": {
        "id": "bkgArnH--PU9"
      },
      "source": [
        "$$ \\frac{3+(3\\times5)}{2\\times(2+3)} $$"
      ]
    },
    {
      "cell_type": "code",
      "execution_count": null,
      "metadata": {
        "id": "ZK50wK_2-PU9"
      },
      "outputs": [],
      "source": [
        "# Resultado esperado: 1.8\n"
      ]
    },
    {
      "cell_type": "markdown",
      "metadata": {
        "id": "w-5nfgtF-PU-"
      },
      "source": [
        "> **Comentários**: Está vendo este `#` na primeira linha da célula acima? Linhas de código precedidas por este símbolo são comentários, que funcionam como mensagens a quem está lendo seu código, normalmente outros programadores. \n",
        "Qualquer coisa escrita na mesma linha **à direita** do símbolo é simplesmente ignorada pelo interpretador, ou seja, **não é executada**. \n",
        "É comum utilizar comentários para documentar partes de um código, ou marcar regiões que devem ser trabalhadas futuramente. "
      ]
    },
    {
      "cell_type": "markdown",
      "metadata": {
        "id": "DFkENwWv-PU-"
      },
      "source": [
        "## 3. Variáveis"
      ]
    },
    {
      "cell_type": "markdown",
      "metadata": {
        "id": "jz1Dft6L-PU-"
      },
      "source": [
        "Quando estamos programando, frequentemente precisamos armazenar valores obtidos em etapas anteriores em memória.\n",
        "Assim, podemos re-utilizar estes valores sem precisar repetir todo o código.\n",
        "Linguagens de programação oferecem uma maneira bastante intuitiva para isso, por meio de **variáveis**.\n",
        "O símbolo que usamos para **atribuir** valores a variáveis é o sinal de igual (`=`). Na linguagem *Python*, uma variável é criada assim que atribuimos algum valor a ela.\n",
        "\n",
        "**obs:** O nome da variável sempre deve ser escrito à esquerda do símbolo `=`, e o valor a ser atribuído à variável, à direita."
      ]
    },
    {
      "cell_type": "markdown",
      "metadata": {
        "id": "W5BdP-nQ-PU-"
      },
      "source": [
        "Por exemplo, podemos criar uma variável chamada `idade`, para armazenar sua idade. Assim, sempre que quisermos saber o valor atribuído a esta variável, basta escrever seu nome em uma célula e executá-la!"
      ]
    },
    {
      "cell_type": "code",
      "execution_count": null,
      "metadata": {
        "id": "2rK0KmS8-PU-"
      },
      "outputs": [],
      "source": [
        ""
      ]
    },
    {
      "cell_type": "markdown",
      "metadata": {
        "id": "neTCHosu-PU_"
      },
      "source": [
        "Declare uma variável chamada `semestre` que armazene o valor numérico do semestre que está cursando atualmente.\n",
        "Em seguida, escreva o nome da variável para obter seu valor. "
      ]
    },
    {
      "cell_type": "code",
      "execution_count": null,
      "metadata": {
        "id": "dfzfn6ql-PU_"
      },
      "outputs": [],
      "source": [
        ""
      ]
    },
    {
      "cell_type": "markdown",
      "metadata": {
        "id": "tiVNvfPR-PU_"
      },
      "source": [
        "Quando lidamos com expressões grandes e complexas pode ser interessante quebrá-las em várias sub-expressões. Veja o seguinte exemplo:"
      ]
    },
    {
      "cell_type": "markdown",
      "metadata": {
        "id": "mPjgQ2Jc-PU_"
      },
      "source": [
        "$$ 2 \\bigg[ \\frac{3\\times(2+5)-20}{3} \\bigg]^2 + \\sqrt 2 + 1  $$"
      ]
    },
    {
      "cell_type": "markdown",
      "metadata": {
        "id": "uzNcvmJD-PU_"
      },
      "source": [
        "Para facilitar a codificação desta expressão, vamos escrevê-la nas seguintes etapas:\n",
        "\n",
        "1. Atribua o resultado de $\\frac{3\\times(2+5)-20}{3}$ a uma variável de nome `a`.\n",
        "2. Atribua o resultado de $\\sqrt{2}+1$ a uma variável de nome `b`. Lembrando que $\\sqrt{2} = 2^{\\frac{1}{2}}$\n",
        "3. Agora, compute o resultado da expressão inteira usando as variáveis que você acabou de criar. $2a^2 + b$ e atribua o resultado a uma variável de nome `c`.\n",
        "4. Por fim, imprima no console o valor da variável `c`."
      ]
    },
    {
      "cell_type": "code",
      "execution_count": null,
      "metadata": {
        "id": "wI9ozcI7-PU_"
      },
      "outputs": [],
      "source": [
        "# Resultado esperado: 2.6364357845953172\n"
      ]
    },
    {
      "cell_type": "markdown",
      "metadata": {
        "id": "rfj5EmYh-PVA"
      },
      "source": [
        "---"
      ]
    },
    {
      "cell_type": "markdown",
      "metadata": {
        "id": "c6opm-2n-PVA"
      },
      "source": [
        "## Exercícios"
      ]
    },
    {
      "cell_type": "markdown",
      "metadata": {
        "id": "CzV0qy_0-PVA"
      },
      "source": [
        "**Ex 1.** Associe o resultado da expressão $2(10+1) + \\frac{8}{3+1}$ a uma variável de nome `a`. \n",
        "Em seguida, associe à mesma variável o valor $5$ e imprima seu valor no console, usando a função `print`.\n",
        "Qual valor será mostrado? E se você quisesse imprimir o resultado do primeiro valor que a variável recebeu? "
      ]
    },
    {
      "cell_type": "code",
      "execution_count": null,
      "metadata": {
        "id": "6eR4S9Ql-PVA"
      },
      "outputs": [],
      "source": [
        ""
      ]
    },
    {
      "cell_type": "markdown",
      "metadata": {
        "id": "vUHWmcnL-PVA"
      },
      "source": [
        "**Ex 2.** Veja na célula abaixo a codificação da expressão $\\sqrt{\\frac{3(3+5)}{5+1}}$. Execute a célula e observe o resultado. O valor está correto? Caso não esteja, como corrigir a expressão?"
      ]
    },
    {
      "cell_type": "code",
      "execution_count": null,
      "metadata": {
        "id": "yCeQi1ey-PVA"
      },
      "outputs": [],
      "source": [
        "( 3*(3+5) / 5+1 )**1/2"
      ]
    },
    {
      "cell_type": "markdown",
      "metadata": {
        "id": "WUSwF5kQ-PVA"
      },
      "source": [
        "**Ex 3.** Para valores de $x$ em $\\{ 1,5,8, 9\\}$, compute o valor da função $\\quad{}f(x) = \\beta_0 + \\beta_1 x \\quad{}$, com parâmetros $\\beta_0 = -1.3$ e $\\beta_1=3.5$."
      ]
    },
    {
      "cell_type": "code",
      "execution_count": null,
      "metadata": {
        "id": "XIPFLenS-PVB"
      },
      "outputs": [],
      "source": [
        "# Crie as variáveis b0 e b1\n",
        "\n",
        "# Para cada print, armazene os valores de x e f(x) nas variáveis x e f_x \n",
        "x =\n",
        "f_x =\n",
        "print(\"x = 1 -> f(x) =\", f_x ) # res. esperado: 2.2\n",
        "\n",
        "print(\"x = 5 -> f(x) =\", f_x ) # res. esperado: 16.2\n",
        "\n",
        "print(\"x = 8 -> f(x) =\", f_x ) # res. esperado: 26.7\n",
        "\n",
        "print(\"x = 9 -> f(x) =\", f_x ) # res. esperado: 30.2"
      ]
    }
  ],
  "metadata": {
    "kernelspec": {
      "display_name": "Python [default]",
      "language": "python",
      "name": "python3"
    },
    "language_info": {
      "codemirror_mode": {
        "name": "ipython",
        "version": 3
      },
      "file_extension": ".py",
      "mimetype": "text/x-python",
      "name": "python",
      "nbconvert_exporter": "python",
      "pygments_lexer": "ipython3",
      "version": "3.6.6"
    },
    "colab": {
      "name": "pratica1.ipynb",
      "provenance": [],
      "include_colab_link": true
    }
  },
  "nbformat": 4,
  "nbformat_minor": 0
}
